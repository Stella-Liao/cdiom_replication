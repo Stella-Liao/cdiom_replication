{
 "cells": [
  {
   "cell_type": "code",
   "execution_count": 1,
   "id": "dfb583d6-94a3-423a-a7a0-1e0f53bb9df5",
   "metadata": {
    "tags": []
   },
   "outputs": [
    {
     "name": "stderr",
     "output_type": "stream",
     "text": [
      "/home/liaom/.local/lib/python3.8/site-packages/geopandas/_compat.py:124: UserWarning: The Shapely GEOS version (3.11.2-CAPI-1.17.2) is incompatible with the GEOS version PyGEOS was compiled with (3.10.4-CAPI-1.16.2). Conversions between both will be slow.\n",
      "  warnings.warn(\n",
      "<ipython-input-1-b7d501e8e436>:3: DeprecationWarning: Shapely 2.0 is installed, but because PyGEOS is also installed, GeoPandas still uses PyGEOS by default. However, starting with version 0.14, the default will switch to Shapely. To force to use Shapely 2.0 now, you can either uninstall PyGEOS or set the environment variable USE_PYGEOS=0. You can do this before starting the Python process, or in your code before importing geopandas:\n",
      "\n",
      "import os\n",
      "os.environ['USE_PYGEOS'] = '0'\n",
      "import geopandas\n",
      "\n",
      "In the next release, GeoPandas will switch to using Shapely by default, even if PyGEOS is installed. If you only have PyGEOS installed to get speed-ups, this switch should be smooth. However, if you are using PyGEOS directly (calling PyGEOS functions on geometries from GeoPandas), this will then stop working and you are encouraged to migrate from PyGEOS to Shapely 2.0 (https://shapely.readthedocs.io/en/latest/migration_pygeos.html).\n",
      "  import geopandas as gpd\n"
     ]
    }
   ],
   "source": [
    "import numpy as np\n",
    "import pandas as pd\n",
    "import geopandas as gpd\n",
    "import os"
   ]
  },
  {
   "cell_type": "code",
   "execution_count": 2,
   "id": "b81dbb43-b26f-4bd4-9bb8-051b4b884b65",
   "metadata": {},
   "outputs": [],
   "source": [
    "# specify working directory\n",
    "os.chdir('.../replication_codes')"
   ]
  },
  {
   "cell_type": "code",
   "execution_count": 3,
   "id": "c143f0cb-136a-4cac-acdb-ff96dc103345",
   "metadata": {},
   "outputs": [],
   "source": [
    "# Naive Approach\n",
    "import statsmodels.api as sm\n",
    "\n",
    "# GAM-based CDIO Model\n",
    "from terms import LinearTerm, SATerm, DIOTerm\n",
    "from gass import CDIOM\n",
    "\n",
    "# record running time\n",
    "import datetime"
   ]
  },
  {
   "cell_type": "code",
   "execution_count": 4,
   "id": "83b7d07a-239b-4a11-9290-af067c5725a0",
   "metadata": {},
   "outputs": [],
   "source": [
    "od_df = pd.read_csv('data/od_no_zeroflow_2019_18.csv')\n",
    "od_df['origin_geocode'] = od_df['origin_geocode'].astype(str).str.zfill(6)\n",
    "od_df['destination_geocode'] = od_df['destination_geocode'].astype(str).str.zfill(6)"
   ]
  },
  {
   "cell_type": "code",
   "execution_count": 5,
   "id": "02c198ea-bc28-4b3a-9986-71fb3c674c96",
   "metadata": {},
   "outputs": [
    {
     "data": {
      "text/plain": [
       "origin_geocode         False\n",
       "destination_geocode    False\n",
       "flow                   False\n",
       "dist                   False\n",
       "pop_origin             False\n",
       "emp_origin             False\n",
       "unemp_origin           False\n",
       "income_origin          False\n",
       "temp_origin            False\n",
       "pop_destination        False\n",
       "emp_destination        False\n",
       "unemp_destination      False\n",
       "income_destination     False\n",
       "temp_destination       False\n",
       "dtype: bool"
      ]
     },
     "execution_count": 5,
     "metadata": {},
     "output_type": "execute_result"
    }
   ],
   "source": [
    "od_df.isna().any()"
   ]
  },
  {
   "cell_type": "code",
   "execution_count": 6,
   "id": "7347fc18-c9a6-4649-b388-e6c877199e3a",
   "metadata": {},
   "outputs": [],
   "source": [
    "cnty_gdf = gpd.read_file('data/cnty_2019_18.geojson')\n",
    "cnty_gdf['geocode'] = cnty_gdf['geocode'].astype(str).str.zfill(6)\n",
    "cnty_gdf = cnty_gdf.set_geometry(cnty_gdf.geometry.centroid)"
   ]
  },
  {
   "cell_type": "code",
   "execution_count": 7,
   "id": "2fc12909-07c7-4e85-ae20-b4fe35ca8630",
   "metadata": {},
   "outputs": [
    {
     "data": {
      "text/plain": [
       "geocode     False\n",
       "pop         False\n",
       "emp         False\n",
       "unemp       False\n",
       "income      False\n",
       "temp        False\n",
       "geometry    False\n",
       "dtype: bool"
      ]
     },
     "execution_count": 7,
     "metadata": {},
     "output_type": "execute_result"
    }
   ],
   "source": [
    "cnty_gdf.isna().any()"
   ]
  },
  {
   "cell_type": "markdown",
   "id": "1935a351-0b65-41d6-9834-ef0fd82687c4",
   "metadata": {},
   "source": [
    "# Data processing"
   ]
  },
  {
   "cell_type": "code",
   "execution_count": 8,
   "id": "ecc93935-29aa-4722-9422-13adad323eb7",
   "metadata": {},
   "outputs": [
    {
     "data": {
      "text/plain": [
       "Index(['pop_origin', 'unemp_origin', 'income_origin', 'temp_origin',\n",
       "       'pop_destination', 'unemp_destination', 'income_destination',\n",
       "       'temp_destination', 'dist'],\n",
       "      dtype='object')"
      ]
     },
     "execution_count": 8,
     "metadata": {},
     "output_type": "execute_result"
    }
   ],
   "source": [
    "od_df.columns[[ 4, 6, 7, 8, 9, 11, 12, 13, 3]]"
   ]
  },
  {
   "cell_type": "code",
   "execution_count": 9,
   "id": "43a30513-b590-4632-9e88-eadcb4623d19",
   "metadata": {
    "tags": []
   },
   "outputs": [],
   "source": [
    "pop_origin = pd.to_numeric(od_df.pop_origin.values).reshape((-1,1))\n",
    "unemp_origin = pd.to_numeric(od_df.unemp_origin.values).reshape((-1,1))\n",
    "income_origin = pd.to_numeric(od_df.income_origin.values).reshape((-1,1))\n",
    "temp_origin = pd.to_numeric(od_df.temp_origin.values).reshape((-1,1))\n",
    "\n",
    "pop_destination = pd.to_numeric(od_df.pop_destination.values).reshape((-1,1))\n",
    "unemp_destination = pd.to_numeric(od_df.unemp_destination.values).reshape((-1,1))\n",
    "income_destination = pd.to_numeric(od_df.income_destination.values).reshape((-1,1))\n",
    "temp_destination = pd.to_numeric(od_df.temp_destination.values).reshape((-1,1))"
   ]
  },
  {
   "cell_type": "code",
   "execution_count": 10,
   "id": "cc166f4a-361f-41bd-80f5-05417c960972",
   "metadata": {
    "tags": []
   },
   "outputs": [],
   "source": [
    "mig_lin_sd = LinearTerm(od_df, 4, 6, 7, 8, 9, 11, 12, 13, 3, log = True, standard = True) "
   ]
  },
  {
   "cell_type": "markdown",
   "id": "bbb5d7bf-68b8-4963-beed-f0bbe46f92c4",
   "metadata": {},
   "source": [
    "# Basic Gravity Model"
   ]
  },
  {
   "cell_type": "code",
   "execution_count": 11,
   "id": "d750f6ca-18b7-4cdc-999f-92a5cdc4e61a",
   "metadata": {},
   "outputs": [
    {
     "name": "stdout",
     "output_type": "stream",
     "text": [
      "                 Generalized Linear Model Regression Results                  \n",
      "==============================================================================\n",
      "Dep. Variable:                      y   No. Observations:               259110\n",
      "Model:                            GLM   Df Residuals:                   259100\n",
      "Model Family:                 Poisson   Df Model:                            9\n",
      "Link Function:                    Log   Scale:                          1.0000\n",
      "Method:                          IRLS   Log-Likelihood:            -1.1444e+07\n",
      "Date:                Tue, 21 Jan 2025   Deviance:                   2.1626e+07\n",
      "Time:                        21:37:41   Pearson chi2:                 4.12e+07\n",
      "No. Iterations:                     6   Pseudo R-squ. (CS):              1.000\n",
      "Covariance Type:            nonrobust                                         \n",
      "======================================================================================\n",
      "                         coef    std err          z      P>|z|      [0.025      0.975]\n",
      "--------------------------------------------------------------------------------------\n",
      "pop_origin             0.9137      0.000   2895.377      0.000       0.913       0.914\n",
      "unemp_origin          -0.1122      0.000   -326.435      0.000      -0.113      -0.112\n",
      "income_origin         -0.0953      0.000   -298.543      0.000      -0.096      -0.095\n",
      "temp_origin            0.0037      0.000     10.135      0.000       0.003       0.004\n",
      "pop_destination        0.8831      0.000   2814.279      0.000       0.882       0.884\n",
      "unemp_destination     -0.1250      0.000   -359.643      0.000      -0.126      -0.124\n",
      "income_destination    -0.0514      0.000   -163.742      0.000      -0.052      -0.051\n",
      "temp_destination       0.1414      0.000    384.643      0.000       0.141       0.142\n",
      "Distance              -1.1682      0.000  -5118.281      0.000      -1.169      -1.168\n",
      "const                  3.3579      0.000   8976.546      0.000       3.357       3.359\n",
      "======================================================================================\n"
     ]
    }
   ],
   "source": [
    "vi = np.hstack([pop_origin, unemp_origin, income_origin, temp_origin])\n",
    "mj = np.hstack([pop_destination, unemp_destination, income_destination, temp_destination])\n",
    "dij = pd.to_numeric(od_df.dist.values).reshape((-1,1))\n",
    "\n",
    "X = np.hstack((vi, mj, dij))\n",
    "logX = np.log(X)\n",
    "mean = np.mean(logX, axis=0)\n",
    "std = np.std(logX, axis=0)\n",
    "standardized_logX = (logX - mean) / std\n",
    "\n",
    "column_names = [\n",
    "    'pop_origin',\n",
    "    'unemp_origin',\n",
    "    'income_origin',\n",
    "    'temp_origin',\n",
    "    'pop_destination',\n",
    "    'unemp_destination',\n",
    "    'income_destination',\n",
    "    'temp_destination',\n",
    "    'Distance'\n",
    "]\n",
    "\n",
    "X_df = pd.DataFrame(standardized_logX, columns=column_names)\n",
    "X_df = sm.add_constant(X_df, prepend=False)\n",
    "\n",
    "y = pd.to_numeric(od_df.flow.values).reshape((-1,1))\n",
    "\n",
    "# Fit the Poisson GLM\n",
    "poisson_glm = sm.GLM(y, X_df, family=sm.families.Poisson()).fit()\n",
    "print(poisson_glm.summary())"
   ]
  },
  {
   "cell_type": "code",
   "execution_count": 12,
   "id": "2682146d-27d3-469f-88ee-fad23c1d31d1",
   "metadata": {},
   "outputs": [
    {
     "data": {
      "text/plain": [
       "22887209.912886612"
      ]
     },
     "execution_count": 12,
     "metadata": {},
     "output_type": "execute_result"
    }
   ],
   "source": [
    "poisson_glm.aic"
   ]
  },
  {
   "cell_type": "code",
   "execution_count": 13,
   "id": "ceb62127-41d0-414d-9c57-5297a2b6353a",
   "metadata": {},
   "outputs": [
    {
     "data": {
      "text/plain": [
       "0.6010416769203755"
      ]
     },
     "execution_count": 13,
     "metadata": {},
     "output_type": "execute_result"
    }
   ],
   "source": [
    "ones = np.ones(len(X_df))\n",
    "null_model = sm.GLM(y, ones, family=sm.families.Poisson()).fit()\n",
    "mcfadden_r2 = 1 - (poisson_glm.llf / null_model.llf)\n",
    "mcfadden_r2"
   ]
  },
  {
   "cell_type": "markdown",
   "id": "34cab2c1",
   "metadata": {},
   "source": [
    "# Naive CD Model "
   ]
  },
  {
   "cell_type": "code",
   "execution_count": null,
   "id": "49225009",
   "metadata": {},
   "outputs": [],
   "source": [
    "sa_pop = SATerm(od_data = od_df, dest_data = cnty_gdf, \n",
    "                o_ids = 'origin_geocode', d_ids = 'destination_geocode', \n",
    "                dest_ids = 'geocode', dest_attr = 'pop', \n",
    "                log = False, standard = False)\n",
    "spop_sa = sa_pop.cal(-1)"
   ]
  },
  {
   "cell_type": "code",
   "execution_count": null,
   "id": "897b64d5",
   "metadata": {},
   "outputs": [
    {
     "name": "stdout",
     "output_type": "stream",
     "text": [
      "                 Generalized Linear Model Regression Results                  \n",
      "==============================================================================\n",
      "Dep. Variable:                      y   No. Observations:               259110\n",
      "Model:                            GLM   Df Residuals:                   259099\n",
      "Model Family:                 Poisson   Df Model:                           10\n",
      "Link Function:                    Log   Scale:                          1.0000\n",
      "Method:                          IRLS   Log-Likelihood:            -9.9545e+06\n",
      "Date:                Mon, 05 Aug 2024   Deviance:                   1.8648e+07\n",
      "Time:                        14:23:51   Pearson chi2:                 3.71e+07\n",
      "No. Iterations:                     6   Pseudo R-squ. (CS):              1.000\n",
      "Covariance Type:            nonrobust                                         \n",
      "======================================================================================\n",
      "                         coef    std err          z      P>|z|      [0.025      0.975]\n",
      "--------------------------------------------------------------------------------------\n",
      "pop_origin             0.9640      0.000   3058.286      0.000       0.963       0.965\n",
      "unemp_origin          -0.0815      0.000   -249.298      0.000      -0.082      -0.081\n",
      "income_origin         -0.0802      0.000   -244.743      0.000      -0.081      -0.080\n",
      "temp_origin           -0.0284      0.000    -78.324      0.000      -0.029      -0.028\n",
      "pop_destination        0.9332      0.000   2971.789      0.000       0.933       0.934\n",
      "unemp_destination     -0.0545      0.000   -165.433      0.000      -0.055      -0.054\n",
      "income_destination     0.0438      0.000    131.707      0.000       0.043       0.044\n",
      "temp_destination       0.0952      0.000    264.813      0.000       0.095       0.096\n",
      "Distance              -1.3218      0.000  -5307.171      0.000      -1.322      -1.321\n",
      "SA(pop, -1)           -0.4115      0.000  -1741.961      0.000      -0.412      -0.411\n",
      "const                  3.3000      0.000   8667.819      0.000       3.299       3.301\n",
      "======================================================================================\n"
     ]
    }
   ],
   "source": [
    "vi = np.hstack([pop_origin, unemp_origin, income_origin, temp_origin])\n",
    "mj = np.hstack([pop_destination, unemp_destination, income_destination, temp_destination])\n",
    "dij = pd.to_numeric(od_df.dist.values).reshape((-1,1))\n",
    "sij = np.hstack([spop_sa])\n",
    "\n",
    "X = np.hstack((vi, mj, dij, sij))\n",
    "logX = np.log(X)\n",
    "mean = np.mean(logX, axis=0)\n",
    "std = np.std(logX, axis=0)\n",
    "standardized_logX = (logX - mean) / std\n",
    "\n",
    "column_names = [\n",
    "    'pop_origin',\n",
    "    'unemp_origin',\n",
    "    'income_origin',\n",
    "    'temp_origin',\n",
    "    'pop_destination',\n",
    "    'unemp_destination',\n",
    "    'income_destination',\n",
    "    'temp_destination',\n",
    "    'Distance',\n",
    "    'SA(pop, -1)'\n",
    "]\n",
    "\n",
    "X_df = pd.DataFrame(standardized_logX, columns=column_names)\n",
    "X_df = sm.add_constant(X_df, prepend=False)\n",
    "\n",
    "y = pd.to_numeric(od_df.flow.values).reshape((-1,1))\n",
    "\n",
    "# Fit the Poisson GLM\n",
    "poisson_glm = sm.GLM(y, X_df, family=sm.families.Poisson()).fit()\n",
    "print(poisson_glm.summary())"
   ]
  },
  {
   "cell_type": "code",
   "execution_count": null,
   "id": "63b883f1",
   "metadata": {},
   "outputs": [
    {
     "data": {
      "text/plain": [
       "19908923.55042567"
      ]
     },
     "metadata": {},
     "output_type": "display_data"
    }
   ],
   "source": [
    "poisson_glm.aic"
   ]
  },
  {
   "cell_type": "code",
   "execution_count": null,
   "id": "a0f6cbdf",
   "metadata": {},
   "outputs": [
    {
     "data": {
      "text/plain": [
       "0.6529577459204389"
      ]
     },
     "metadata": {},
     "output_type": "display_data"
    }
   ],
   "source": [
    "ones = np.ones(len(X_df))\n",
    "null_model = sm.GLM(y, ones, family=sm.families.Poisson()).fit()\n",
    "mcfadden_r2 = 1 - (poisson_glm.llf / null_model.llf)\n",
    "mcfadden_r2"
   ]
  },
  {
   "cell_type": "markdown",
   "id": "36ff8c6a",
   "metadata": {},
   "source": [
    "## GASS CD Model"
   ]
  },
  {
   "cell_type": "code",
   "execution_count": null,
   "id": "3ba6cc81",
   "metadata": {},
   "outputs": [],
   "source": [
    "y = pd.to_numeric(od_df.flow.values).flatten()"
   ]
  },
  {
   "cell_type": "code",
   "execution_count": null,
   "id": "7cbde6ce",
   "metadata": {},
   "outputs": [],
   "source": [
    "mig_lin_sd = LinearTerm(od_df, 4, 6, 7, 8, 9, 11, 12, 13, 3, log = True, standard = True) "
   ]
  },
  {
   "cell_type": "code",
   "execution_count": null,
   "id": "036402e7",
   "metadata": {},
   "outputs": [],
   "source": [
    "sa_pop_sd = SATerm(od_data = od_df, dest_data = cnty_gdf, \n",
    "                   o_ids = 'origin_geocode', d_ids = 'destination_geocode', \n",
    "                   dest_ids = 'geocode', dest_attr = 'pop', \n",
    "                   log = True, standard = True)"
   ]
  },
  {
   "cell_type": "code",
   "execution_count": null,
   "id": "2b78cd20",
   "metadata": {},
   "outputs": [],
   "source": [
    "mig_cdm_pop = CDM(y, mig_lin_sd, sa_pop_sd, constant = True) \n",
    "start = datetime.datetime.now()\n",
    "mig_cdm_pop.fit_Poisson(printed = False, verbose = False) \n",
    "end = datetime.datetime.now()"
   ]
  },
  {
   "cell_type": "code",
   "execution_count": null,
   "id": "50af913f",
   "metadata": {},
   "outputs": [
    {
     "name": "stdout",
     "output_type": "stream",
     "text": [
      "1:18:53.546374 [[ 3.38053719]\n",
      " [ 0.96642388]\n",
      " [-0.0801584 ]\n",
      " [-0.07795823]\n",
      " [-0.02873403]\n",
      " [ 0.939007  ]\n",
      " [-0.05012277]\n",
      " [ 0.05310306]\n",
      " [ 0.097296  ]\n",
      " [-1.32455077]\n",
      " [-0.39718492]] [-1.06]\n"
     ]
    }
   ],
   "source": [
    "print(end-start, mig_cdm_pop.coefficients, mig_cdm_pop.sigmas)"
   ]
  },
  {
   "cell_type": "code",
   "execution_count": null,
   "id": "377a4f74",
   "metadata": {},
   "outputs": [],
   "source": [
    "mig_cdm_pop.inference_Poisson()"
   ]
  },
  {
   "cell_type": "code",
   "execution_count": null,
   "id": "8e06f66b",
   "metadata": {},
   "outputs": [
    {
     "data": {
      "text/plain": [
       "[(3.379801178465843, 3.3812732005665045),\n",
       " (0.9658059473868159, 0.9670418047391756),\n",
       " (-0.08079960661028507, -0.07951719244457708),\n",
       " (-0.07860055539287843, -0.07731591235387607),\n",
       " (-0.029444382251389723, -0.028023679595047372),\n",
       " (0.9383910593714103, 0.9396229424089667),\n",
       " (-0.050768742789010536, -0.049476793781908314),\n",
       " (0.05244885183886025, 0.05375727768221246),\n",
       " (0.09659067506925977, 0.09800131917684916),\n",
       " (-1.3250406563910186, -1.3240608861025887),\n",
       " (-0.39763353443844046, -0.3967363008653659)]"
      ]
     },
     "metadata": {},
     "output_type": "display_data"
    }
   ],
   "source": [
    "mig_cdm_pop.CI_betas"
   ]
  },
  {
   "cell_type": "code",
   "execution_count": null,
   "id": "dc88d8ae",
   "metadata": {},
   "outputs": [
    {
     "name": "stdout",
     "output_type": "stream",
     "text": [
      "19905844.00447331\n"
     ]
    }
   ],
   "source": [
    "print(mig_cdm_pop.AIC) "
   ]
  },
  {
   "cell_type": "code",
   "execution_count": null,
   "id": "e377c9a1",
   "metadata": {},
   "outputs": [
    {
     "name": "stdout",
     "output_type": "stream",
     "text": [
      "0.6530114270623211\n"
     ]
    }
   ],
   "source": [
    "print(mig_cdm_pop.R_squared_McFadden)"
   ]
  },
  {
   "cell_type": "code",
   "execution_count": null,
   "id": "519101a7",
   "metadata": {},
   "outputs": [],
   "source": [
    "start2 = datetime.datetime.now()\n",
    "mig_cdm_pop.calculate_AWCI_sigmas()\n",
    "end2 = datetime.datetime.now()"
   ]
  },
  {
   "cell_type": "code",
   "execution_count": null,
   "id": "7434e1a9",
   "metadata": {},
   "outputs": [
    {
     "name": "stdout",
     "output_type": "stream",
     "text": [
      "0:04:50.819085 [(-1.08, -1.04)]\n"
     ]
    }
   ],
   "source": [
    "print(end2-start2, mig_cdm_pop.AWCI_sigmas)"
   ]
  },
  {
   "cell_type": "markdown",
   "id": "d416663b-5342-4d3c-a35d-2e69001ed91c",
   "metadata": {},
   "source": [
    "# Naive IO Model "
   ]
  },
  {
   "cell_type": "code",
   "execution_count": 14,
   "id": "40c3adf6-9ffe-49b2-9573-73a7dbc4e269",
   "metadata": {},
   "outputs": [],
   "source": [
    "dio_pop = DIOTerm(od_data = od_df, orig_data = cnty_gdf, \n",
    "                  o_ids = 'origin_geocode', d_ids = 'destination_geocode', \n",
    "                  orig_ids = 'geocode', orig_attr = 'pop',\n",
    "                  log = False, standard = False)\n",
    "spop_dio = dio_pop.cal(-1)"
   ]
  },
  {
   "cell_type": "code",
   "execution_count": 15,
   "id": "e5b9f40c-4980-4907-99f3-a381801a5e7b",
   "metadata": {},
   "outputs": [
    {
     "name": "stdout",
     "output_type": "stream",
     "text": [
      "                 Generalized Linear Model Regression Results                  \n",
      "==============================================================================\n",
      "Dep. Variable:                      y   No. Observations:               259110\n",
      "Model:                            GLM   Df Residuals:                   259099\n",
      "Model Family:                 Poisson   Df Model:                           10\n",
      "Link Function:                    Log   Scale:                          1.0000\n",
      "Method:                          IRLS   Log-Likelihood:            -1.0246e+07\n",
      "Date:                Tue, 21 Jan 2025   Deviance:                   1.9232e+07\n",
      "Time:                        21:40:13   Pearson chi2:                 3.92e+07\n",
      "No. Iterations:                     6   Pseudo R-squ. (CS):              1.000\n",
      "Covariance Type:            nonrobust                                         \n",
      "======================================================================================\n",
      "                         coef    std err          z      P>|z|      [0.025      0.975]\n",
      "--------------------------------------------------------------------------------------\n",
      "pop_origin             0.9692      0.000   3060.950      0.000       0.969       0.970\n",
      "unemp_origin          -0.0346      0.000   -105.339      0.000      -0.035      -0.034\n",
      "income_origin          0.0022      0.000      6.447      0.000       0.002       0.003\n",
      "temp_origin           -0.0590      0.000   -166.454      0.000      -0.060      -0.058\n",
      "pop_destination        0.9187      0.000   2937.654      0.000       0.918       0.919\n",
      "unemp_destination     -0.1045      0.000   -314.047      0.000      -0.105      -0.104\n",
      "income_destination    -0.0432      0.000   -134.667      0.000      -0.044      -0.043\n",
      "temp_destination       0.1287      0.000    348.993      0.000       0.128       0.129\n",
      "Distance              -1.2969      0.000  -5257.880      0.000      -1.297      -1.296\n",
      "IO(pop, -1)           -0.3744      0.000  -1559.033      0.000      -0.375      -0.374\n",
      "const                  3.3109      0.000   8720.738      0.000       3.310       3.312\n",
      "======================================================================================\n"
     ]
    }
   ],
   "source": [
    "vi = np.hstack([pop_origin, unemp_origin, income_origin, temp_origin])\n",
    "mj = np.hstack([pop_destination, unemp_destination, income_destination, temp_destination])\n",
    "dij = pd.to_numeric(od_df.dist.values).reshape((-1,1))\n",
    "sij = np.hstack([spop_dio])\n",
    "\n",
    "X = np.hstack((vi, mj, dij, sij))\n",
    "logX = np.log(X)\n",
    "mean = np.mean(logX, axis=0)\n",
    "std = np.std(logX, axis=0)\n",
    "standardized_logX = (logX - mean) / std\n",
    "\n",
    "column_names = [\n",
    "    'pop_origin',\n",
    "    'unemp_origin',\n",
    "    'income_origin',\n",
    "    'temp_origin',\n",
    "    'pop_destination',\n",
    "    'unemp_destination',\n",
    "    'income_destination',\n",
    "    'temp_destination',\n",
    "    'Distance',\n",
    "    'IO(pop, -1)'\n",
    "]\n",
    "\n",
    "X_df = pd.DataFrame(standardized_logX, columns=column_names)\n",
    "X_df = sm.add_constant(X_df, prepend=False)\n",
    "\n",
    "y = pd.to_numeric(od_df.flow.values).reshape((-1,1))\n",
    "\n",
    "# Fit the Poisson GLM\n",
    "poisson_glm = sm.GLM(y, X_df, family=sm.families.Poisson()).fit()\n",
    "print(poisson_glm.summary())"
   ]
  },
  {
   "cell_type": "code",
   "execution_count": 16,
   "id": "523e78c1-a632-4cdb-8f29-3a8b1bd48c0f",
   "metadata": {},
   "outputs": [
    {
     "data": {
      "text/plain": [
       "20492900.681859702"
      ]
     },
     "execution_count": 16,
     "metadata": {},
     "output_type": "execute_result"
    }
   ],
   "source": [
    "poisson_glm.aic"
   ]
  },
  {
   "cell_type": "code",
   "execution_count": 17,
   "id": "01406f1a-daf6-422f-9096-f6abe1c9600f",
   "metadata": {},
   "outputs": [
    {
     "data": {
      "text/plain": [
       "0.6427781416107552"
      ]
     },
     "execution_count": 17,
     "metadata": {},
     "output_type": "execute_result"
    }
   ],
   "source": [
    "ones = np.ones(len(X_df))\n",
    "null_model = sm.GLM(y, ones, family=sm.families.Poisson()).fit()\n",
    "mcfadden_r2 = 1 - (poisson_glm.llf / null_model.llf)\n",
    "mcfadden_r2"
   ]
  },
  {
   "cell_type": "markdown",
   "id": "f6768f2e",
   "metadata": {},
   "source": [
    "# GASS IO Model"
   ]
  },
  {
   "cell_type": "code",
   "execution_count": null,
   "id": "7e417886",
   "metadata": {},
   "outputs": [],
   "source": [
    "mig_lin_sd = LinearTerm(od_df, 4, 6, 7, 8, 9, 11, 12, 13, 3, log = True, standard = True) "
   ]
  },
  {
   "cell_type": "code",
   "execution_count": null,
   "id": "57a7a8f6",
   "metadata": {},
   "outputs": [],
   "source": [
    "y = pd.to_numeric(od_df.flow.values).flatten()"
   ]
  },
  {
   "cell_type": "code",
   "execution_count": null,
   "id": "4ac9e2ca",
   "metadata": {},
   "outputs": [],
   "source": [
    "dio_pop_sd = DIOTerm(od_data = od_df, orig_data = cnty_gdf, \n",
    "                     o_ids = 'origin_geocode', d_ids = 'destination_geocode', \n",
    "                     orig_ids = 'geocode', orig_attr = 'pop', \n",
    "                     log = True, standard = True)"
   ]
  },
  {
   "cell_type": "code",
   "execution_count": null,
   "id": "6c2bcb7d",
   "metadata": {},
   "outputs": [],
   "source": [
    "mig_iom_pop = CDM(y, mig_lin_sd, dio_pop_sd, constant = True) \n",
    "start = datetime.datetime.now()\n",
    "mig_iom_pop.fit_Poisson(printed = False, verbose = False) \n",
    "end = datetime.datetime.now()"
   ]
  },
  {
   "cell_type": "code",
   "execution_count": null,
   "id": "1c979bf2",
   "metadata": {},
   "outputs": [
    {
     "name": "stdout",
     "output_type": "stream",
     "text": [
      "1:30:55.685369 [[ 3.38791515]\n",
      " [ 0.95140184]\n",
      " [-0.04811378]\n",
      " [-0.02411865]\n",
      " [-0.06490317]\n",
      " [ 0.91164593]\n",
      " [-0.10915956]\n",
      " [-0.0500032 ]\n",
      " [ 0.13079162]\n",
      " [-1.29031519]\n",
      " [-0.34365565]] [-0.81]\n"
     ]
    }
   ],
   "source": [
    "print(end-start, mig_iom_pop.coefficients, mig_iom_pop.sigmas)"
   ]
  },
  {
   "cell_type": "code",
   "execution_count": null,
   "id": "eae15c3a",
   "metadata": {},
   "outputs": [],
   "source": [
    "mig_iom_pop.inference_Poisson()"
   ]
  },
  {
   "cell_type": "code",
   "execution_count": null,
   "id": "ec40c0c1",
   "metadata": {},
   "outputs": [
    {
     "data": {
      "text/plain": [
       "[(3.387183502268921, 3.388646807101833),\n",
       " (0.9507831570211006, 0.9520205179062863),\n",
       " (-0.04875384956168022, -0.04747370869233697),\n",
       " (-0.024775775227889783, -0.023461531384421225),\n",
       " (-0.06559810653727545, -0.06420823594766085),\n",
       " (0.9110333027067252, 0.9122585554884854),\n",
       " (-0.10981009508650946, -0.10850901828725015),\n",
       " (-0.050633062374564115, -0.049373337297711824),\n",
       " (0.13006939455265767, 0.1315138502260144),\n",
       " (-1.2907941384177009, -1.2898362386011866),\n",
       " (-0.34407920365753925, -0.3432320914337758)]"
      ]
     },
     "metadata": {},
     "output_type": "display_data"
    }
   ],
   "source": [
    "mig_iom_pop.CI_betas"
   ]
  },
  {
   "cell_type": "code",
   "execution_count": null,
   "id": "3e9dd628",
   "metadata": {},
   "outputs": [
    {
     "name": "stdout",
     "output_type": "stream",
     "text": [
      "20466708.95210677\n"
     ]
    }
   ],
   "source": [
    "print(mig_iom_pop.AIC) "
   ]
  },
  {
   "cell_type": "code",
   "execution_count": null,
   "id": "15c8d05b",
   "metadata": {},
   "outputs": [
    {
     "name": "stdout",
     "output_type": "stream",
     "text": [
      "0.6432347030593453\n"
     ]
    }
   ],
   "source": [
    "print(mig_iom_pop.R_squared_McFadden)"
   ]
  },
  {
   "cell_type": "code",
   "execution_count": null,
   "id": "108c8647",
   "metadata": {},
   "outputs": [],
   "source": [
    "start2 = datetime.datetime.now()\n",
    "mig_iom_pop.calculate_AWCI_sigmas()\n",
    "end2 = datetime.datetime.now()"
   ]
  },
  {
   "cell_type": "code",
   "execution_count": null,
   "id": "567e96a9",
   "metadata": {},
   "outputs": [
    {
     "name": "stdout",
     "output_type": "stream",
     "text": [
      "0:05:21.750452 [(-0.84, -0.79)]\n"
     ]
    }
   ],
   "source": [
    "print(end2-start2, mig_iom_pop.AWCI_sigmas)"
   ]
  },
  {
   "cell_type": "markdown",
   "id": "a7feb68a",
   "metadata": {},
   "source": [
    "# Naive CDIO Model"
   ]
  },
  {
   "cell_type": "code",
   "execution_count": null,
   "id": "0a0ab4b9",
   "metadata": {},
   "outputs": [],
   "source": [
    "sa_pop = SATerm(od_data = od_df, dest_data = cnty_gdf, \n",
    "                o_ids = 'origin_geocode', d_ids = 'destination_geocode', \n",
    "                dest_ids = 'geocode', dest_attr = 'pop', \n",
    "                log = False, standard = False)\n",
    "spop_sa = sa_pop.cal(-1)"
   ]
  },
  {
   "cell_type": "code",
   "execution_count": null,
   "id": "4c3d2891",
   "metadata": {},
   "outputs": [],
   "source": [
    "dio_pop = DIOTerm(od_data = od_df, orig_data = cnty_gdf, \n",
    "                  o_ids = 'origin_geocode', d_ids = 'destination_geocode', \n",
    "                  orig_ids = 'geocode', orig_attr = 'pop', \n",
    "                  log = False, standard = False)\n",
    "spop_dio = dio_pop.cal(-1)"
   ]
  },
  {
   "cell_type": "code",
   "execution_count": null,
   "id": "c73743fd",
   "metadata": {},
   "outputs": [
    {
     "name": "stdout",
     "output_type": "stream",
     "text": [
      "                 Generalized Linear Model Regression Results                  \n",
      "==============================================================================\n",
      "Dep. Variable:                      y   No. Observations:               259110\n",
      "Model:                            GLM   Df Residuals:                   259098\n",
      "Model Family:                 Poisson   Df Model:                           11\n",
      "Link Function:                    Log   Scale:                          1.0000\n",
      "Method:                          IRLS   Log-Likelihood:            -9.8362e+06\n",
      "Date:                Tue, 29 Oct 2024   Deviance:                   1.8411e+07\n",
      "Time:                        17:53:24   Pearson chi2:                 3.57e+07\n",
      "No. Iterations:                     6   Pseudo R-squ. (CS):              1.000\n",
      "Covariance Type:            nonrobust                                         \n",
      "======================================================================================\n",
      "                         coef    std err          z      P>|z|      [0.025      0.975]\n",
      "--------------------------------------------------------------------------------------\n",
      "pop_origin             0.9733      0.000   3081.290      0.000       0.973       0.974\n",
      "unemp_origin          -0.0589      0.000   -180.148      0.000      -0.060      -0.058\n",
      "income_origin         -0.0435      0.000   -127.908      0.000      -0.044      -0.043\n",
      "temp_origin           -0.0447      0.000   -124.317      0.000      -0.045      -0.044\n",
      "pop_destination        0.9340      0.000   2979.124      0.000       0.933       0.935\n",
      "unemp_destination     -0.0671      0.000   -203.957      0.000      -0.068      -0.066\n",
      "income_destination     0.0205      0.000     61.065      0.000       0.020       0.021\n",
      "temp_destination       0.1028      0.000    283.413      0.000       0.102       0.104\n",
      "Distance              -1.3198      0.000  -5352.811      0.000      -1.320      -1.319\n",
      "SA(pop, -1)           -0.2949      0.000   -888.438      0.000      -0.296      -0.294\n",
      "IO(pop, -1)           -0.1583      0.000   -480.938      0.000      -0.159      -0.158\n",
      "const                  3.3073      0.000   8717.583      0.000       3.307       3.308\n",
      "======================================================================================\n"
     ]
    }
   ],
   "source": [
    "vi = np.hstack([pop_origin, unemp_origin, income_origin, temp_origin])\n",
    "mj = np.hstack([pop_destination, unemp_destination, income_destination, temp_destination])\n",
    "dij = pd.to_numeric(od_df.dist.values).reshape((-1,1))\n",
    "sij = np.hstack([spop_sa, spop_dio])\n",
    "\n",
    "X = np.hstack((vi, mj, dij, sij))\n",
    "logX = np.log(X)\n",
    "mean = np.mean(logX, axis=0)\n",
    "std = np.std(logX, axis=0)\n",
    "standardized_logX = (logX - mean) / std\n",
    "\n",
    "column_names = [\n",
    "    'pop_origin',\n",
    "    'unemp_origin',\n",
    "    'income_origin',\n",
    "    'temp_origin',\n",
    "    'pop_destination',\n",
    "    'unemp_destination',\n",
    "    'income_destination',\n",
    "    'temp_destination',\n",
    "    'Distance',\n",
    "    'SA(pop, -1)',\n",
    "    'IO(pop, -1)'\n",
    "]\n",
    "\n",
    "X_df = pd.DataFrame(standardized_logX, columns=column_names)\n",
    "X_df = sm.add_constant(X_df, prepend=False)\n",
    "\n",
    "y = pd.to_numeric(od_df.flow.values).reshape((-1,1))\n",
    "\n",
    "# Fit the Poisson GLM\n",
    "poisson_glm = sm.GLM(y, X_df, family=sm.families.Poisson()).fit()\n",
    "print(poisson_glm.summary())"
   ]
  },
  {
   "cell_type": "code",
   "execution_count": null,
   "id": "46aa2e57",
   "metadata": {},
   "outputs": [
    {
     "data": {
      "text/plain": [
       "19672461.785649866"
      ]
     },
     "metadata": {},
     "output_type": "display_data"
    }
   ],
   "source": [
    "poisson_glm.aic"
   ]
  },
  {
   "cell_type": "code",
   "execution_count": null,
   "id": "3ce63d4f",
   "metadata": {},
   "outputs": [
    {
     "data": {
      "text/plain": [
       "0.5694928377422936"
      ]
     },
     "metadata": {},
     "output_type": "display_data"
    }
   ],
   "source": [
    "yhat = poisson_glm.fittedvalues.values.reshape((-1, 1))\n",
    "N = len(od_df)\n",
    "YYhat = np.hstack([y, yhat])\n",
    "num = 2.0 * np.min(YYhat, axis=1)\n",
    "den = yhat + y\n",
    "(1.0 / N) * (np.sum(num.reshape((-1, 1)) / den.reshape((-1, 1))))"
   ]
  },
  {
   "cell_type": "code",
   "execution_count": null,
   "id": "56d7effd",
   "metadata": {},
   "outputs": [
    {
     "data": {
      "text/plain": [
       "0.6570796668475218"
      ]
     },
     "metadata": {},
     "output_type": "display_data"
    }
   ],
   "source": [
    "ones = np.ones(len(X_df))\n",
    "null_model = sm.GLM(y, ones, family=sm.families.Poisson()).fit()\n",
    "mcfadden_r2 = 1 - (poisson_glm.llf / null_model.llf)\n",
    "mcfadden_r2"
   ]
  },
  {
   "cell_type": "markdown",
   "id": "3617bb5e-7d6b-41c6-9ada-2f91372c7835",
   "metadata": {},
   "source": [
    "# GASS CDIO Model"
   ]
  },
  {
   "cell_type": "code",
   "execution_count": 17,
   "id": "ab0e1afb-930c-4321-bb84-f489f509483f",
   "metadata": {},
   "outputs": [],
   "source": [
    "y = pd.to_numeric(od_df.flow.values).flatten()"
   ]
  },
  {
   "cell_type": "code",
   "execution_count": 18,
   "id": "a12decbe-f025-4e03-844e-5d653898035d",
   "metadata": {
    "tags": []
   },
   "outputs": [],
   "source": [
    "mig_lin_sd = LinearTerm(od_df, 4, 6, 7, 8, 9, 11, 12, 13, 3, log = True, standard = True) "
   ]
  },
  {
   "cell_type": "code",
   "execution_count": 19,
   "id": "caa662dc-125b-4f5d-bc8f-dc9a4eb148f1",
   "metadata": {
    "tags": []
   },
   "outputs": [],
   "source": [
    "sa_pop_sd = SATerm(od_data = od_df, dest_data = cnty_gdf, \n",
    "                   o_ids = 'origin_geocode', d_ids = 'destination_geocode', \n",
    "                   dest_ids = 'geocode', dest_attr = 'pop', \n",
    "                   log = True, standard = True)"
   ]
  },
  {
   "cell_type": "code",
   "execution_count": 20,
   "id": "c80c2c40-fd0d-4512-b722-f04ae29ecf2a",
   "metadata": {},
   "outputs": [],
   "source": [
    "dio_pop_sd = DIOTerm(od_data = od_df, orig_data = cnty_gdf, \n",
    "                     o_ids = 'origin_geocode', d_ids = 'destination_geocode', \n",
    "                     orig_ids = 'geocode', orig_attr = 'pop', \n",
    "                     log = True, standard = True, lower_bound = -3.0, upper_bound = -0.1)"
   ]
  },
  {
   "cell_type": "code",
   "execution_count": 21,
   "id": "2785cbc6-7322-4a4c-9c8e-e9a2749213d2",
   "metadata": {
    "tags": []
   },
   "outputs": [],
   "source": [
    "mig_cdiom = CDIOM(y, mig_lin_sd, sa_pop_sd, dio_pop_sd, constant = True) \n",
    "start = datetime.datetime.now()\n",
    "mig_cdiom.fit_Poisson(printed = False, verbose = False) \n",
    "end = datetime.datetime.now()"
   ]
  },
  {
   "cell_type": "code",
   "execution_count": 22,
   "id": "c187ce63-f43d-42c0-a984-d50b9d24065e",
   "metadata": {},
   "outputs": [
    {
     "name": "stdout",
     "output_type": "stream",
     "text": [
      "3:39:07.506818 [[ 3.4140831 ]\n",
      " [ 0.98217056]\n",
      " [-0.05260049]\n",
      " [-0.03164049]\n",
      " [-0.04588685]\n",
      " [ 0.95049374]\n",
      " [-0.05639624]\n",
      " [ 0.04508401]\n",
      " [ 0.10865228]\n",
      " [-1.32880134]\n",
      " [-0.28705069]\n",
      " [-0.15566835]] [-1.23, -1.06]\n"
     ]
    }
   ],
   "source": [
    "print(end-start, mig_cdiom.coefficients, mig_cdiom.sigmas)"
   ]
  },
  {
   "cell_type": "code",
   "execution_count": 23,
   "id": "00c5ea09-a82f-4480-a6ed-a542ab92cbd0",
   "metadata": {
    "tags": []
   },
   "outputs": [],
   "source": [
    "mig_cdiom.inference_Poisson()"
   ]
  },
  {
   "cell_type": "code",
   "execution_count": 24,
   "id": "d16bc955-a475-4fdf-87ab-3ec70dd59b9f",
   "metadata": {
    "tags": []
   },
   "outputs": [
    {
     "data": {
      "text/plain": [
       "[(3.4133448650018385, 3.414821329918845),\n",
       " (0.9815510943162024, 0.9827900292835386),\n",
       " (-0.05324212131305932, -0.05195885998472173),\n",
       " (-0.0323085005481859, -0.030972476776527716),\n",
       " (-0.046592222735510044, -0.0451814730733735),\n",
       " (0.9498771626966025, 0.9511103098267846),\n",
       " (-0.05704453252028943, -0.055747951090882306),\n",
       " (0.04441424629442237, 0.045753764490664255),\n",
       " (0.1079403792051405, 0.10936418453561074),\n",
       " (-1.3292896265738292, -1.3283130507536571),\n",
       " (-0.28767270540182516, -0.2864286826607884),\n",
       " (-0.15624615535071712, -0.1550905411909012)]"
      ]
     },
     "execution_count": 24,
     "metadata": {},
     "output_type": "execute_result"
    }
   ],
   "source": [
    "mig_cdiom.CI_betas"
   ]
  },
  {
   "cell_type": "code",
   "execution_count": 25,
   "id": "5eeda9e4-2436-4b14-b12c-104bb33eab7e",
   "metadata": {
    "tags": []
   },
   "outputs": [
    {
     "data": {
      "text/plain": [
       "array([0., 0., 0., 0., 0., 0., 0., 0., 0., 0., 0., 0.])"
      ]
     },
     "execution_count": 25,
     "metadata": {},
     "output_type": "execute_result"
    }
   ],
   "source": [
    "mig_cdiom.pvals"
   ]
  },
  {
   "cell_type": "code",
   "execution_count": 26,
   "id": "63fc8042-f8ed-4b50-8fe2-5fd532b15b59",
   "metadata": {},
   "outputs": [
    {
     "data": {
      "text/plain": [
       "-9823312.895428369"
      ]
     },
     "execution_count": 26,
     "metadata": {},
     "output_type": "execute_result"
    }
   ],
   "source": [
    "mig_cdiom.log_likelihood"
   ]
  },
  {
   "cell_type": "code",
   "execution_count": 27,
   "id": "c229f2e6-67dd-46b7-b8c7-2cc2b6d8f856",
   "metadata": {},
   "outputs": [
    {
     "name": "stdout",
     "output_type": "stream",
     "text": [
      "19646649.790856738\n"
     ]
    }
   ],
   "source": [
    "print(mig_cdiom.AIC) "
   ]
  },
  {
   "cell_type": "code",
   "execution_count": 28,
   "id": "38d25c69-3f1d-4a97-bdde-50c79770be13",
   "metadata": {},
   "outputs": [
    {
     "name": "stdout",
     "output_type": "stream",
     "text": [
      "0.6575296089416454\n"
     ]
    }
   ],
   "source": [
    "print(mig_cdiom.R_squared_McFadden)"
   ]
  },
  {
   "cell_type": "code",
   "execution_count": 29,
   "id": "9fc9eb3d-6f25-42c2-958a-0833c08947a6",
   "metadata": {},
   "outputs": [],
   "source": [
    "start2 = datetime.datetime.now()\n",
    "mig_cdiom.calculate_AWCI_sigmas()\n",
    "end2 = datetime.datetime.now()"
   ]
  },
  {
   "cell_type": "code",
   "execution_count": 30,
   "id": "fe8a212c-7b48-4b48-892b-85b9ca8d13d4",
   "metadata": {},
   "outputs": [
    {
     "name": "stdout",
     "output_type": "stream",
     "text": [
      "0:10:11.786154 [(-1.27, -1.2), (-1.13, -0.97)]\n"
     ]
    }
   ],
   "source": [
    "print(end2-start2, mig_cdiom.AWCI_sigmas)"
   ]
  },
  {
   "cell_type": "code",
   "execution_count": null,
   "id": "3a6fefce-f54b-4ce2-ac1c-2ceb33b09874",
   "metadata": {},
   "outputs": [],
   "source": []
  }
 ],
 "metadata": {
  "kernelspec": {
   "display_name": "Python 3",
   "language": "python",
   "name": "python3"
  },
  "language_info": {
   "codemirror_mode": {
    "name": "ipython",
    "version": 3
   },
   "file_extension": ".py",
   "mimetype": "text/x-python",
   "name": "python",
   "nbconvert_exporter": "python",
   "pygments_lexer": "ipython3",
   "version": "3.8.8"
  }
 },
 "nbformat": 4,
 "nbformat_minor": 5
}
